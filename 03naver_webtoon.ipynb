{
 "cells": [
  {
   "cell_type": "markdown",
   "id": "6842ee1b-1590-4b0e-9f8f-9f35aa9bbc0b",
   "metadata": {},
   "source": [
    "### 웹툰 이미지를 다운로드하여 로컬에 저장하기"
   ]
  },
  {
   "cell_type": "code",
   "execution_count": 15,
   "id": "3bc0ed94-4a93-41f1-8a8c-1a5513350fa0",
   "metadata": {},
   "outputs": [
    {
     "name": "stdout",
     "output_type": "stream",
     "text": [
      "200\n",
      "Write to file data/20220113151757_90bb11af8a341a8bf8a8558fb3d3c121_IMAG01_1.jpg (162,066) bytes\n",
      "200\n",
      "Write to file data/20220113151757_90bb11af8a341a8bf8a8558fb3d3c121_IMAG01_2.jpg (215,640) bytes\n",
      "200\n",
      "Write to file data/20220113151757_90bb11af8a341a8bf8a8558fb3d3c121_IMAG01_3.jpg (212,535) bytes\n"
     ]
    }
   ],
   "source": [
    "import requests\n",
    "import os\n",
    "\n",
    "req_header_dict = {\n",
    "    'referer':'https://comic.naver.com/webtoon/detail?titleId=552960&no=410&amp;weekday=fri'\n",
    "}\n",
    "\n",
    "img_url_list = [\n",
    "    'https://image-comic.pstatic.net/webtoon/552960/410/20220113151757_90bb11af8a341a8bf8a8558fb3d3c121_IMAG01_1.jpg',\n",
    "    'https://image-comic.pstatic.net/webtoon/552960/410/20220113151757_90bb11af8a341a8bf8a8558fb3d3c121_IMAG01_2.jpg',\n",
    "    'https://image-comic.pstatic.net/webtoon/552960/410/20220113151757_90bb11af8a341a8bf8a8558fb3d3c121_IMAG01_3.jpg'\n",
    "]\n",
    "\n",
    "for img_url in img_url_list:\n",
    "    res = requests.get(img_url, headers=req_header_dict)\n",
    "    print(res.status_code)\n",
    "    if res.ok:\n",
    "        # binary data 가져올때 .content 속성사용\n",
    "        img_data = res.content\n",
    "        # url에서 파일명만 추출하기\n",
    "        file_name = os.path.basename(img_url)\n",
    "        file_name = 'data/' + file_name \n",
    "        \n",
    "        # 서버에서 가져온 binary data를 file로 저장하기\n",
    "        with open(file_name, 'wb') as file:\n",
    "            print(f'Write to file {file_name} ({len(img_data):,}) bytes')\n",
    "            file.write(img_data)      "
   ]
  },
  {
   "cell_type": "markdown",
   "id": "527fb4e2-3959-4594-940a-d96c86956da2",
   "metadata": {},
   "source": [
    "### 웹툰의 특정회차의 모든 image 다운로드 하기\n",
    "* Attribute Selector를 사용하여 jpg 파일명들을 모두 추출하여 리스트에 저장하기"
   ]
  },
  {
   "cell_type": "code",
   "execution_count": 25,
   "id": "b3570761-164d-40e0-b0c2-f399ff4ee20f",
   "metadata": {},
   "outputs": [
    {
     "name": "stdout",
     "output_type": "stream",
     "text": [
      "72 <class 'bs4.element.ResultSet'>\n",
      "72\n",
      "['https://shared-comic.pstatic.net/thumb/webtoon/764040/thumbnail/thumbnail_IMAG04_8afc9026-2558-49e9-b675-93381d9ef009.jpg', 'https://image-comic.pstatic.net/webtoon/764040/54/20220127142619_b148e6dfbf0f74b0c384744f9e46035c_IMAG01_1.jpg', 'https://image-comic.pstatic.net/webtoon/764040/54/20220127142619_b148e6dfbf0f74b0c384744f9e46035c_IMAG01_2.jpg', 'https://image-comic.pstatic.net/webtoon/764040/54/20220127142619_b148e6dfbf0f74b0c384744f9e46035c_IMAG01_3.jpg']\n"
     ]
    }
   ],
   "source": [
    "import requests\n",
    "from bs4 import BeautifulSoup\n",
    "\n",
    "main_url = 'https://comic.naver.com/webtoon/detail?titleId=764040&no=54&weekday=fri'\n",
    "res = requests.get(main_url)\n",
    "\n",
    "if res.ok:\n",
    "    soup = BeautifulSoup(res.text, 'html.parser')\n",
    "    img_tags = soup.select(\"img[src$='.jpg']\") \n",
    "    print( len(img_tags), type(img_tags) )\n",
    "    \n",
    "    img_url_list = []\n",
    "    for img_tag in img_tags:\n",
    "        #print(type(img_tag), img_tag)\n",
    "        img_url = img_tag['src']\n",
    "        img_url_list.append(img_url)\n",
    "\n",
    "print(len(img_url_list))\n",
    "print(img_url_list[:4])"
   ]
  },
  {
   "cell_type": "code",
   "execution_count": 27,
   "id": "a09789b4-0995-4309-8f75-3fc9e1b2a54e",
   "metadata": {},
   "outputs": [],
   "source": [
    "# img 디렉토리 생성하기\n",
    "import os\n",
    "\n",
    "dir_path = 'img'\n",
    "\n",
    "#img 디렉토리가 없으면\n",
    "if not os.path.isdir(dir_path):\n",
    "    os.mkdir(dir_path)"
   ]
  },
  {
   "cell_type": "markdown",
   "id": "55f72ce3-4cad-4777-8afe-74e1e21811ba",
   "metadata": {},
   "source": [
    "### 디렉토리 생성하는 2가지 함수\n",
    "* os.mkdir() / osk.makedirs()\n",
    " 1. os.mkdir() 은 1개 폴더만 생성\n",
    " 2. os.makedirs() 는 a/b/c 처럼 하위 폴더를 생성"
   ]
  },
  {
   "cell_type": "markdown",
   "id": "034c43c2-9ab4-42fe-ae65-02de681cc9eb",
   "metadata": {},
   "source": [
    "* 리스트를 순회하면서 image 다운로드 하기"
   ]
  },
  {
   "cell_type": "code",
   "execution_count": 32,
   "id": "c9d049e3-88eb-45d8-93a2-53f90f319736",
   "metadata": {},
   "outputs": [],
   "source": [
    "for idx, img_url in enumerate(img_url_list, 1):\n",
    "    #print(f'다운로드 번호 {idx} URL = {img_url}')\n",
    "    req_header = {'referer':main_url}\n",
    "    res = requests.get(img_url, headers=req_header)\n",
    "    if res.ok:\n",
    "        img_data = res.content\n",
    "        file_name = os.path.basename(img_url)\n",
    "        file_name = 'img/' + file_name\n",
    "        with open(file_name, 'wb') as file:\n",
    "            file.write(img_data)"
   ]
  },
  {
   "cell_type": "code",
   "execution_count": 34,
   "id": "8127f86a-9814-498f-b9b0-fa32f7fab219",
   "metadata": {},
   "outputs": [],
   "source": [
    "# 파일들이 있는 디렉토리 삭제\n",
    "import shutil\n",
    "import os\n",
    "\n",
    "dir_path = 'img'\n",
    "#img 디렉토리가 있다면\n",
    "if os.path.exists(dir_path):\n",
    "    shutil.rmtree(dir_path)"
   ]
  },
  {
   "cell_type": "markdown",
   "id": "336bbec6-93ca-4932-b650-b20c0be84524",
   "metadata": {},
   "source": [
    "#### 웹툰의 타이틀과 특정회차 url을 아규먼트 받아서 다운로드 하는 함수 구현하기"
   ]
  },
  {
   "cell_type": "code",
   "execution_count": 49,
   "id": "4876872f-9452-402e-8e3e-707e362a67ec",
   "metadata": {},
   "outputs": [],
   "source": [
    "def download_image(title, round_url):\n",
    "    import requests\n",
    "    from bs4 import BeautifulSoup\n",
    "    import os\n",
    "    import shutil\n",
    "    \n",
    "    # img 폴더가 있으면 삭제하기\n",
    "    dir_path = 'img'\n",
    "    \n",
    "    if os.path.exists(dir_path):\n",
    "        shutil.rmtree(dir_path)\n",
    "        \n",
    "    #img 디렉토리가 없으면\n",
    "    if not os.path.isdir(dir_path):\n",
    "        #img\\외모지상주의\n",
    "        title_path = os.path.join(dir_path, title)\n",
    "        print(title_path)\n",
    "        os.makedirs(title_path)\n",
    "    \n",
    "    # img url 목록을 알아내기 위한 요청을 보내기\n",
    "    res = requests.get(round_url)\n",
    "    if res.ok:\n",
    "        # 응답으로 받은 html텍스트를 파싱하기 위한 파서(BeautifulSoup)객체생성\n",
    "        soup = BeautifulSoup(res.text, 'html.parser')\n",
    "        # img태그 중에서 src 속성의 값이 .jpg로 끝나는 태그들만 선택하기\n",
    "        img_tags = soup.select(\"img[src$='.jpg']\") \n",
    "        print( len(img_tags), type(img_tags) )\n",
    "        \n",
    "        # 특정회차 url을 referer 헤더로 설정하기\n",
    "        req_header = { 'referer':round_url }\n",
    "        \n",
    "        for idx, img_tag in enumerate(img_tags,1):\n",
    "            #img 태그의 src 속성의 값을 추출하기\n",
    "            print(f'------> 다운로드 번호 {idx}')\n",
    "            img_url = img_tag['src']\n",
    "            \n",
    "            # jpg image 데이터 요청하기\n",
    "            res_img = requests.get(img_url, headers=req_header)\n",
    "            if res_img.ok:\n",
    "                # image binary 데이터 가져오기\n",
    "                img_data = res_img.content\n",
    "                \n",
    "                #img\\외모지상주의\\thumbnail_IMAG04_be987481-7e58-478d-ae1b-c33228ccc658.jpg\n",
    "                file_name = title_path + '\\\\' + os.path.basename(img_url)\n",
    "                \n",
    "                with open(file_name, 'wb') as file:\n",
    "                    print(f'{file_name} ({len(img_data)}) bytes')\n",
    "                    file.write(img_data)"
   ]
  },
  {
   "cell_type": "code",
   "execution_count": 51,
   "id": "4c40dbc7-22c6-4f49-8750-cf11b1bf0a8d",
   "metadata": {},
   "outputs": [],
   "source": [
    "#download_image('외모지상주의','https://comic.naver.com/webtoon/detail?titleId=641253&no=376&amp;weekday=fri')"
   ]
  },
  {
   "cell_type": "markdown",
   "id": "1eb015a7-3cba-4259-8030-56b1ae001f32",
   "metadata": {},
   "source": [
    "### Image File Upload\n",
    "* https://httpbin.org/post URL로 요청을 보내서 다운로드 받은 img 파일을 업로드 하기\n",
    "* requests.post() 함수를 사용하고, files 속성에 image data를 지정한다.\n",
    "* files – (optional) Dictionary of ‘filename’: file-like-objects for multipart encoding upload."
   ]
  },
  {
   "cell_type": "code",
   "execution_count": 56,
   "id": "7cd044a8-c1a9-4699-86b6-6340651529e0",
   "metadata": {},
   "outputs": [
    {
     "name": "stdout",
     "output_type": "stream",
     "text": [
      "200\n"
     ]
    }
   ],
   "source": [
    "import requests\n",
    "\n",
    "upload_files_dict = {\n",
    "    'img1': open('data\\\\f1.jpg','rb'),\n",
    "    'img2': open('data\\\\f2.jpg','rb'),\n",
    "    'img3': open('data\\\\f3.jpg','rb')\n",
    "}\n",
    "\n",
    "url = 'http://httpbin.org/post'\n",
    "res = requests.post(url, files=upload_files_dict)\n",
    "print(res.status_code)\n",
    "res_data = res.json()\n",
    "img1_data = res_data['files']['img1']\n",
    "#print(img1_data)"
   ]
  }
 ],
 "metadata": {
  "kernelspec": {
   "display_name": "Python 3 (ipykernel)",
   "language": "python",
   "name": "python3"
  },
  "language_info": {
   "codemirror_mode": {
    "name": "ipython",
    "version": 3
   },
   "file_extension": ".py",
   "mimetype": "text/x-python",
   "name": "python",
   "nbconvert_exporter": "python",
   "pygments_lexer": "ipython3",
   "version": "3.9.7"
  }
 },
 "nbformat": 4,
 "nbformat_minor": 5
}